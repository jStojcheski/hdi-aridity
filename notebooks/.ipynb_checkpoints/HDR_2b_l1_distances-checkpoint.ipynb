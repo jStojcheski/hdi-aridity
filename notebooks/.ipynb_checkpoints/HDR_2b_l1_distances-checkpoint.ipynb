{
 "cells": [
  {
   "cell_type": "markdown",
   "metadata": {},
   "source": [
    "### HDR: L<sub>1</sub>-distances between two countries per year"
   ]
  },
  {
   "cell_type": "code",
   "execution_count": 1,
   "metadata": {},
   "outputs": [],
   "source": [
    "import numpy as np\n",
    "import os\n",
    "import pandas as pd\n",
    "import time"
   ]
  },
  {
   "cell_type": "markdown",
   "metadata": {},
   "source": [
    "#### Calculate absolute difference between pairs of countries and output to csv format\n",
    "\n",
    "For each year $\\text{YYYY}$ and for each attribute ($a$), the following calculation is done:\n",
    "\n",
    "$L_{1}((c_1, c_2),\\ a)_{(\\text{YYYY})} = |c_{1,a} - c_{2, a}|$"
   ]
  },
  {
   "cell_type": "markdown",
   "metadata": {},
   "source": [
    "#### <font style=\"color: #FF0000\">Warning: Slow operation!!!</font> (25-75 seconds per year!)"
   ]
  },
  {
   "cell_type": "code",
   "execution_count": 2,
   "metadata": {
    "scrolled": false
   },
   "outputs": [
    {
     "name": "stdout",
     "output_type": "stream",
     "text": [
      "Processing max_min_1990 ... Done in 35 seconds!\n",
      "Processing max_min_1991 ... Done in 33 seconds!\n",
      "Processing max_min_1992 ... Done in 32 seconds!\n",
      "Processing max_min_1993 ... Done in 34 seconds!\n",
      "Processing max_min_1994 ... Done in 36 seconds!\n",
      "Processing max_min_1995 ... Done in 54 seconds!\n",
      "Processing max_min_1996 ... Done in 37 seconds!\n",
      "Processing max_min_1997 ... Done in 35 seconds!\n",
      "Processing max_min_1998 ... Done in 33 seconds!\n",
      "Processing max_min_1999 ... Done in 34 seconds!\n",
      "Processing max_min_2000 ... Done in 49 seconds!\n",
      "Processing max_min_2001 ... Done in 39 seconds!\n",
      "Processing max_min_2002 ... Done in 35 seconds!\n",
      "Processing max_min_2003 ... Done in 34 seconds!\n",
      "Processing max_min_2004 ... Done in 35 seconds!\n",
      "Processing max_min_2005 ... Done in 43 seconds!\n",
      "Processing max_min_2006 ... Done in 35 seconds!\n",
      "Processing max_min_2007 ... Done in 34 seconds!\n",
      "Processing max_min_2008 ... Done in 37 seconds!\n",
      "Processing max_min_2009 ... Done in 36 seconds!\n",
      "Processing max_min_2010 ... Done in 46 seconds!\n",
      "Processing max_min_2011 ... Done in 46 seconds!\n",
      "Processing max_min_2012 ... Done in 49 seconds!\n",
      "Processing max_min_2013 ... Done in 46 seconds!\n",
      "Processing max_min_2014 ... Done in 55 seconds!\n",
      "Processing max_min_2015 ... Done in 46 seconds!\n",
      "Processing max_min_2016 ... Done in 43 seconds!\n",
      "Processing max_min_2017 ... Done in 38 seconds!\n",
      "\n",
      "\n",
      "Processing z_score_1990 ... Done in 39 seconds!\n",
      "Processing z_score_1991 ... Done in 34 seconds!\n",
      "Processing z_score_1992 ... Done in 32 seconds!\n",
      "Processing z_score_1993 ... Done in 31 seconds!\n",
      "Processing z_score_1994 ... Done in 30 seconds!\n",
      "Processing z_score_1995 ... Done in 37 seconds!\n",
      "Processing z_score_1996 ... Done in 30 seconds!\n",
      "Processing z_score_1997 ... Done in 30 seconds!\n",
      "Processing z_score_1998 ... Done in 30 seconds!\n",
      "Processing z_score_1999 ... Done in 30 seconds!\n",
      "Processing z_score_2000 ... Done in 37 seconds!\n",
      "Processing z_score_2001 ... Done in 32 seconds!\n",
      "Processing z_score_2002 ... Done in 31 seconds!\n",
      "Processing z_score_2003 ... Done in 31 seconds!\n",
      "Processing z_score_2004 ... Done in 32 seconds!\n",
      "Processing z_score_2005 ... Done in 50 seconds!\n",
      "Processing z_score_2006 ... Done in 39 seconds!\n",
      "Processing z_score_2007 ... Done in 42 seconds!\n",
      "Processing z_score_2008 ... Done in 50 seconds!\n",
      "Processing z_score_2009 ... Done in 42 seconds!\n",
      "Processing z_score_2010 ... Done in 43 seconds!\n",
      "Processing z_score_2011 ... Done in 42 seconds!\n",
      "Processing z_score_2012 ... Done in 43 seconds!\n",
      "Processing z_score_2013 ... Done in 44 seconds!\n",
      "Processing z_score_2014 ... Done in 43 seconds!\n",
      "Processing z_score_2015 ... Done in 48 seconds!\n",
      "Processing z_score_2016 ... Done in 48 seconds!\n",
      "Processing z_score_2017 ... Done in 42 seconds!\n",
      "\n",
      "\n"
     ]
    }
   ],
   "source": [
    "for std_type in ['max_min', 'z_score']:\n",
    "    # set input/output folder\n",
    "    data_in  = f'../data/HDR_2a_{std_type}_year'\n",
    "    data_out = f'../data/HDR_2b_{std_type}_l1_distances'\n",
    "\n",
    "    if not os.path.exists(data_out):\n",
    "        os.mkdir(data_out)\n",
    "        \n",
    "    for year_file in sorted(list(os.listdir(data_in))):\n",
    "        t = time.time()\n",
    "        year = year_file[:-4]\n",
    "        print(f'Processing {std_type}_{year} ...', end=' ')\n",
    "        \n",
    "        df = pd.read_csv(f'{data_in}/{year_file}', index_col='Country')\n",
    "\n",
    "        diff_df = pd.DataFrame(index=df.columns)\n",
    "        num_countries = len(df.index)\n",
    "\n",
    "        for i1 in range(num_countries):\n",
    "            for i2 in range(i1+1, num_countries):\n",
    "                c1, c2 = df.index[[i1, i2]]\n",
    "                diff_df[f'{c1}_{c2}'] = np.abs(df.loc[c1] - df.loc[c2])\n",
    "\n",
    "        diff_df.transpose().to_csv(f'{data_out}/{year}.csv', index_label='Country1_Country2')\n",
    "        print(f'Done in {int(time.time() - t)} seconds!')\n",
    "        \n",
    "    print('\\n')"
   ]
  }
 ],
 "metadata": {
  "kernelspec": {
   "display_name": "Python 3",
   "language": "python",
   "name": "python3"
  },
  "language_info": {
   "codemirror_mode": {
    "name": "ipython",
    "version": 3
   },
   "file_extension": ".py",
   "mimetype": "text/x-python",
   "name": "python",
   "nbconvert_exporter": "python",
   "pygments_lexer": "ipython3",
   "version": "3.6.5"
  }
 },
 "nbformat": 4,
 "nbformat_minor": 2
}
