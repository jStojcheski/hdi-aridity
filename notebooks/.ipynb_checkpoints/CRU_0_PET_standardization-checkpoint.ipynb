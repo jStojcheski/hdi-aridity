{
 "cells": [
  {
   "cell_type": "markdown",
   "metadata": {},
   "source": [
    "### CRU: PET transformation from daily to monthly values"
   ]
  },
  {
   "cell_type": "code",
   "execution_count": 3,
   "metadata": {},
   "outputs": [],
   "source": [
    "import calendar\n",
    "import os\n",
    "import pandas as pd\n",
    "import re"
   ]
  },
  {
   "cell_type": "markdown",
   "metadata": {},
   "source": [
    "#### Set input/output folder"
   ]
  },
  {
   "cell_type": "code",
   "execution_count": 4,
   "metadata": {},
   "outputs": [],
   "source": [
    "data_in  = '../data/CRU_0/Potential Evapotranspiration (PET) [mm_day]'\n",
    "data_out = '../data/CRU_0/Potential Evapotranspiration (PET) [mm_month]'\n",
    "\n",
    "if not os.path.exists(data_out):\n",
    "    os.mkdir(data_out)"
   ]
  },
  {
   "cell_type": "markdown",
   "metadata": {},
   "source": [
    "#### Define length of the months & quartals"
   ]
  },
  {
   "cell_type": "code",
   "execution_count": 8,
   "metadata": {},
   "outputs": [],
   "source": [
    "# %load '../snippets/daily_to_monthly.py'\n",
    "days_month = dict({'JAN': 31, 'FEB': 28, 'MAR': 31, 'APR': 30,\n",
    "                    'MAY': 31, 'JUN': 30, 'JUL': 31, 'AUG': 31,\n",
    "                    'SEP': 30, 'OCT': 31, 'NOV': 30, 'DEC': 31})\n",
    "\n",
    "days_quartal = {'MAM': 92, 'JJA': 92, 'SON': 91, 'DJF': 90}\n",
    "\n",
    "\n",
    "def daily_to_monthly(data):\n",
    "    for year in data.index:\n",
    "        for period in data.columns:\n",
    "            value = data[period][year]\n",
    "            if value != -999:\n",
    "                if period in days_month.keys():\n",
    "                    value = data[period][year] * (days_month[period] +\n",
    "                                                 (1 if period == 'FEB' and\n",
    "                                                  calendar.isleap(year) else 0))\n",
    "                elif period in days_quartal.keys():\n",
    "                    value = data[period][year] * (days_quartal[period] +\n",
    "                                                  (1 if period == 'DJF' and\n",
    "                                                  calendar.isleap(year) else 0))\n",
    "                elif period == 'ANN':\n",
    "                    value = data[period][year] * (366 if calendar.isleap(year)\n",
    "                                                  else 365)\n",
    "            value = round(value, 1)\n",
    "            data[period][year] = value\n",
    "    return data"
   ]
  },
  {
   "cell_type": "markdown",
   "metadata": {},
   "source": [
    "#### Read input data, transform input data, and write output data"
   ]
  },
  {
   "cell_type": "code",
   "execution_count": 11,
   "metadata": {},
   "outputs": [],
   "source": [
    "for file in sorted(os.listdir(data_in)):\n",
    "    with open(f'{data_in}/{file}', 'r') as file_in:\n",
    "        header = ''\n",
    "        for i in range(3):\n",
    "            header += file_in.readline()\n",
    "        header = re.sub('mm/day', 'mm/month', header)\n",
    "\n",
    "    # read input data\n",
    "    data = pd.read_csv('{}/{}'.format(data_in, file), delimiter='\\s+',\n",
    "                   skiprows=3)\n",
    "    data = data.set_index('YEAR')\n",
    "\n",
    "    # transform data\n",
    "    data = daily_to_monthly(data)\n",
    "    \n",
    "    # write output data\n",
    "    with open(f'{data_out}/{file}', 'w') as file_out:\n",
    "        file_out.write(header)\n",
    "        data.to_csv(file_out, sep='\\t')"
   ]
  }
 ],
 "metadata": {
  "kernelspec": {
   "display_name": "Python 3",
   "language": "python",
   "name": "python3"
  },
  "language_info": {
   "codemirror_mode": {
    "name": "ipython",
    "version": 3
   },
   "file_extension": ".py",
   "mimetype": "text/x-python",
   "name": "python",
   "nbconvert_exporter": "python",
   "pygments_lexer": "ipython3",
   "version": "3.6.5"
  }
 },
 "nbformat": 4,
 "nbformat_minor": 2
}
