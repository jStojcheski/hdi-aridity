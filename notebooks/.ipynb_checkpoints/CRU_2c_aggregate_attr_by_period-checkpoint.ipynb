{
 "cells": [
  {
   "cell_type": "markdown",
   "metadata": {},
   "source": [
    "### CRU: Aggregate attributes by period of time"
   ]
  },
  {
   "cell_type": "code",
   "execution_count": 1,
   "metadata": {},
   "outputs": [],
   "source": [
    "import os\n",
    "import pandas as pd"
   ]
  },
  {
   "cell_type": "markdown",
   "metadata": {},
   "source": [
    "#### Set input and output folders"
   ]
  },
  {
   "cell_type": "code",
   "execution_count": 2,
   "metadata": {},
   "outputs": [],
   "source": [
    "data_in  = '../data/CRU_2a_iso_standardization'\n",
    "data_out = '../data/CRU_2c_aggregate_attr_by_period'\n",
    "\n",
    "if not os.path.exists(data_out):\n",
    "    os.mkdir(data_out)\n",
    "\n",
    "periods = ['annually', 'monthly', 'quarterly']\n",
    "for period in periods:\n",
    "    if not os.path.exists(f'{data_out}/{period}'):\n",
    "        os.mkdir(f'{data_out}/{period}')"
   ]
  },
  {
   "cell_type": "markdown",
   "metadata": {},
   "source": [
    "#### Read data; Concatenate attributes by period of time; Output data to csv format"
   ]
  },
  {
   "cell_type": "code",
   "execution_count": 3,
   "metadata": {},
   "outputs": [],
   "source": [
    "for period in periods:\n",
    "    # Read data\n",
    "    all_attrs = dict()\n",
    "\n",
    "    for attr_file in os.listdir(f'{data_in}/{period}'):\n",
    "        attr = attr_file.split('.')[0]\n",
    "        all_attrs[attr] = pd.read_csv(f'{data_in}/{period}/{attr_file}',\n",
    "                                      index_col='Country')\n",
    "        \n",
    "        # attrs = sorted(list(all_attrs.keys()))\n",
    "        # print(len(attrs))\n",
    "\n",
    "    # Concatenate attributes by period of time\n",
    "    df_dict = dict()\n",
    "\n",
    "    for attr in sorted(list(all_attrs.keys())):\n",
    "        df = all_attrs[attr]\n",
    "        for p in df.columns:\n",
    "            if p not in df_dict.keys():\n",
    "                df_dict[p] = pd.DataFrame()\n",
    "            df_dict[p][attr] = df[p]\n",
    "            \n",
    "    # Period (Number of countries, Number of attributes)\n",
    "    for p in df_dict.keys():\n",
    "        # print(p, df_dict[p].shape)\n",
    "        df_dict[p].to_csv(f'{data_out}/{period}/{p}.csv')"
   ]
  }
 ],
 "metadata": {
  "kernelspec": {
   "display_name": "Python 3",
   "language": "python",
   "name": "python3"
  },
  "language_info": {
   "codemirror_mode": {
    "name": "ipython",
    "version": 3
   },
   "file_extension": ".py",
   "mimetype": "text/x-python",
   "name": "python",
   "nbconvert_exporter": "python",
   "pygments_lexer": "ipython3",
   "version": "3.7.1"
  }
 },
 "nbformat": 4,
 "nbformat_minor": 2
}
