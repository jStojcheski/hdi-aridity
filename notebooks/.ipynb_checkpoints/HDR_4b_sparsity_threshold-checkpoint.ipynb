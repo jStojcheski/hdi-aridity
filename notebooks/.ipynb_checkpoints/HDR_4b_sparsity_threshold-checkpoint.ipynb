{
 "cells": [
  {
   "cell_type": "markdown",
   "metadata": {},
   "source": [
    "### HDR: Threshold determination"
   ]
  },
  {
   "cell_type": "code",
   "execution_count": 83,
   "metadata": {},
   "outputs": [],
   "source": [
    "import networkx as nx\n",
    "import numpy as np\n",
    "import os\n",
    "import pandas as pd\n",
    "\n",
    "from queue import deque"
   ]
  },
  {
   "cell_type": "markdown",
   "metadata": {},
   "source": [
    "#### Settings"
   ]
  },
  {
   "cell_type": "code",
   "execution_count": 71,
   "metadata": {},
   "outputs": [],
   "source": [
    "years = np.arange(2010, 2016+1)\n",
    "\n",
    "mean_type = 'mean'  # ['mean', 'median', 'wmean']"
   ]
  },
  {
   "cell_type": "markdown",
   "metadata": {},
   "source": [
    "#### Set input/output folder"
   ]
  },
  {
   "cell_type": "code",
   "execution_count": 79,
   "metadata": {},
   "outputs": [],
   "source": [
    "data_in  = f'../data/HDR_4a_graph_formation/{mean_type}'\n",
    "data_out = f'../data/HDR_4b_sparsity_threshold/'\n",
    "\n",
    "if not os.path.exists(data_out):\n",
    "    os.makedirs(data_out)\n",
    "\n",
    "graphs_out = f'../data/HDR_4b_sparsity_threshold/{mean_type}'\n",
    "if not os.path.exists(graphs_out):\n",
    "    os.makedirs(graphs_out)"
   ]
  },
  {
   "cell_type": "markdown",
   "metadata": {},
   "source": [
    "#### Functions"
   ]
  },
  {
   "cell_type": "code",
   "execution_count": 38,
   "metadata": {},
   "outputs": [],
   "source": [
    "def one_component(adj_mtx):\n",
    "    n = adj_mtx.shape[0]  # number of items\n",
    "    \n",
    "    visited = set()\n",
    "    q = deque()\n",
    "    \n",
    "    q.append(0)\n",
    "    \n",
    "    while len(q) > 0:\n",
    "        u = q.pop()\n",
    "        visited.add(u)\n",
    "        \n",
    "        for v in range(n):\n",
    "            if adj_mtx[u, v] and v not in visited and v not in q:\n",
    "                q.append(v)\n",
    "        \n",
    "#     print(len(visited), n)\n",
    "    \n",
    "    if len(visited) == n:\n",
    "        return True\n",
    "    \n",
    "    return False"
   ]
  },
  {
   "cell_type": "markdown",
   "metadata": {},
   "source": [
    "#### Output DataFrame"
   ]
  },
  {
   "cell_type": "code",
   "execution_count": 47,
   "metadata": {},
   "outputs": [
    {
     "data": {
      "text/html": [
       "<div>\n",
       "<style scoped>\n",
       "    .dataframe tbody tr th:only-of-type {\n",
       "        vertical-align: middle;\n",
       "    }\n",
       "\n",
       "    .dataframe tbody tr th {\n",
       "        vertical-align: top;\n",
       "    }\n",
       "\n",
       "    .dataframe thead th {\n",
       "        text-align: right;\n",
       "    }\n",
       "</style>\n",
       "<table border=\"1\" class=\"dataframe\">\n",
       "  <thead>\n",
       "    <tr style=\"text-align: right;\">\n",
       "      <th></th>\n",
       "      <th>Threshold</th>\n",
       "      <th>Removed edges</th>\n",
       "      <th>Remaining edges</th>\n",
       "      <th>Total edges</th>\n",
       "    </tr>\n",
       "  </thead>\n",
       "  <tbody>\n",
       "    <tr>\n",
       "      <th>2010</th>\n",
       "      <td>NaN</td>\n",
       "      <td>NaN</td>\n",
       "      <td>NaN</td>\n",
       "      <td>NaN</td>\n",
       "    </tr>\n",
       "    <tr>\n",
       "      <th>2011</th>\n",
       "      <td>NaN</td>\n",
       "      <td>NaN</td>\n",
       "      <td>NaN</td>\n",
       "      <td>NaN</td>\n",
       "    </tr>\n",
       "    <tr>\n",
       "      <th>2012</th>\n",
       "      <td>NaN</td>\n",
       "      <td>NaN</td>\n",
       "      <td>NaN</td>\n",
       "      <td>NaN</td>\n",
       "    </tr>\n",
       "    <tr>\n",
       "      <th>2013</th>\n",
       "      <td>NaN</td>\n",
       "      <td>NaN</td>\n",
       "      <td>NaN</td>\n",
       "      <td>NaN</td>\n",
       "    </tr>\n",
       "    <tr>\n",
       "      <th>2014</th>\n",
       "      <td>NaN</td>\n",
       "      <td>NaN</td>\n",
       "      <td>NaN</td>\n",
       "      <td>NaN</td>\n",
       "    </tr>\n",
       "    <tr>\n",
       "      <th>2015</th>\n",
       "      <td>NaN</td>\n",
       "      <td>NaN</td>\n",
       "      <td>NaN</td>\n",
       "      <td>NaN</td>\n",
       "    </tr>\n",
       "    <tr>\n",
       "      <th>2016</th>\n",
       "      <td>NaN</td>\n",
       "      <td>NaN</td>\n",
       "      <td>NaN</td>\n",
       "      <td>NaN</td>\n",
       "    </tr>\n",
       "  </tbody>\n",
       "</table>\n",
       "</div>"
      ],
      "text/plain": [
       "     Threshold Removed edges Remaining edges Total edges\n",
       "2010       NaN           NaN             NaN         NaN\n",
       "2011       NaN           NaN             NaN         NaN\n",
       "2012       NaN           NaN             NaN         NaN\n",
       "2013       NaN           NaN             NaN         NaN\n",
       "2014       NaN           NaN             NaN         NaN\n",
       "2015       NaN           NaN             NaN         NaN\n",
       "2016       NaN           NaN             NaN         NaN"
      ]
     },
     "execution_count": 47,
     "metadata": {},
     "output_type": "execute_result"
    }
   ],
   "source": [
    "info_df = pd.DataFrame(columns=['Total edges', 'Removed edges',\n",
    "                                'Remaining edges', 'Threshold'],\n",
    "                       index=years)\n",
    "info_df"
   ]
  },
  {
   "cell_type": "markdown",
   "metadata": {},
   "source": [
    "#### Brute-force"
   ]
  },
  {
   "cell_type": "code",
   "execution_count": null,
   "metadata": {},
   "outputs": [],
   "source": [
    "for year in years:\n",
    "    print(f'Year {year}...', end=' ')\n",
    "    \n",
    "    df = pd.read_csv(f'{data_in}/l1_{year}.csv', index_col='Country')\n",
    "    \n",
    "    min_w = df.min().min()\n",
    "    max_w = df.max().max()\n",
    "\n",
    "#     print('Minimum weight:', min_w)\n",
    "#     print('Maximum weight:', max_w)\n",
    "    \n",
    "    edge_w = sorted(list(df.values.flatten()))\n",
    "    \n",
    "    i = 0\n",
    "    while one_component(df.values >= edge_w[i]):\n",
    "        i += 1\n",
    "\n",
    "#     print(edge_w[i-1])\n",
    "#     print(i-1)\n",
    "    \n",
    "    info_df.at[year, 'Threshold']    = edge_w[i-1]\n",
    "    info_df.at[year, 'Removed edges']   = ((df.values >= edge_w[i-1]) ^ True).sum() - len(df)\n",
    "    info_df.at[year, 'Remaining edges'] = (df.values >= edge_w[i-1]).sum()\n",
    "    info_df.at[year, 'Total edges']     = (len(df) * len(df)) - len(df)\n",
    "    \n",
    "    print('Done!')"
   ]
  },
  {
   "cell_type": "code",
   "execution_count": 75,
   "metadata": {},
   "outputs": [
    {
     "data": {
      "text/html": [
       "<div>\n",
       "<style scoped>\n",
       "    .dataframe tbody tr th:only-of-type {\n",
       "        vertical-align: middle;\n",
       "    }\n",
       "\n",
       "    .dataframe tbody tr th {\n",
       "        vertical-align: top;\n",
       "    }\n",
       "\n",
       "    .dataframe thead th {\n",
       "        text-align: right;\n",
       "    }\n",
       "</style>\n",
       "<table border=\"1\" class=\"dataframe\">\n",
       "  <thead>\n",
       "    <tr style=\"text-align: right;\">\n",
       "      <th></th>\n",
       "      <th>Total edges</th>\n",
       "      <th>Removed edges</th>\n",
       "      <th>Remaining edges</th>\n",
       "      <th>Threshold</th>\n",
       "    </tr>\n",
       "  </thead>\n",
       "  <tbody>\n",
       "    <tr>\n",
       "      <th>2010</th>\n",
       "      <td>37830</td>\n",
       "      <td>31808</td>\n",
       "      <td>6022</td>\n",
       "      <td>0.277160</td>\n",
       "    </tr>\n",
       "    <tr>\n",
       "      <th>2011</th>\n",
       "      <td>37830</td>\n",
       "      <td>32000</td>\n",
       "      <td>5830</td>\n",
       "      <td>0.282598</td>\n",
       "    </tr>\n",
       "    <tr>\n",
       "      <th>2012</th>\n",
       "      <td>37830</td>\n",
       "      <td>31230</td>\n",
       "      <td>6600</td>\n",
       "      <td>0.268070</td>\n",
       "    </tr>\n",
       "    <tr>\n",
       "      <th>2013</th>\n",
       "      <td>37830</td>\n",
       "      <td>32094</td>\n",
       "      <td>5736</td>\n",
       "      <td>0.279441</td>\n",
       "    </tr>\n",
       "    <tr>\n",
       "      <th>2014</th>\n",
       "      <td>37830</td>\n",
       "      <td>31616</td>\n",
       "      <td>6214</td>\n",
       "      <td>0.272869</td>\n",
       "    </tr>\n",
       "    <tr>\n",
       "      <th>2015</th>\n",
       "      <td>37830</td>\n",
       "      <td>31714</td>\n",
       "      <td>6116</td>\n",
       "      <td>0.264968</td>\n",
       "    </tr>\n",
       "    <tr>\n",
       "      <th>2016</th>\n",
       "      <td>37830</td>\n",
       "      <td>31136</td>\n",
       "      <td>6694</td>\n",
       "      <td>0.262653</td>\n",
       "    </tr>\n",
       "  </tbody>\n",
       "</table>\n",
       "</div>"
      ],
      "text/plain": [
       "     Total edges Removed edges Remaining edges  Threshold\n",
       "2010       37830         31808            6022   0.277160\n",
       "2011       37830         32000            5830   0.282598\n",
       "2012       37830         31230            6600   0.268070\n",
       "2013       37830         32094            5736   0.279441\n",
       "2014       37830         31616            6214   0.272869\n",
       "2015       37830         31714            6116   0.264968\n",
       "2016       37830         31136            6694   0.262653"
      ]
     },
     "execution_count": 75,
     "metadata": {},
     "output_type": "execute_result"
    }
   ],
   "source": [
    "info_df"
   ]
  },
  {
   "cell_type": "code",
   "execution_count": 74,
   "metadata": {},
   "outputs": [],
   "source": [
    "info_df.to_csv(f'{data_out}/{mean_type}.csv', index_label='Year')"
   ]
  },
  {
   "cell_type": "markdown",
   "metadata": {},
   "source": [
    "#### <font style=\"color: #FF0000;\">Binary search implementation</font>"
   ]
  },
  {
   "cell_type": "code",
   "execution_count": 1,
   "metadata": {},
   "outputs": [],
   "source": [
    "# ..."
   ]
  },
  {
   "cell_type": "markdown",
   "metadata": {},
   "source": [
    "#### Calculating density"
   ]
  },
  {
   "cell_type": "code",
   "execution_count": 88,
   "metadata": {},
   "outputs": [
    {
     "data": {
      "text/plain": [
       "2010    15.9186\n",
       "2011     15.411\n",
       "2012    17.4465\n",
       "2013    15.1626\n",
       "2014    16.4261\n",
       "2015    16.1671\n",
       "2016     17.695\n",
       "dtype: object"
      ]
     },
     "execution_count": 88,
     "metadata": {},
     "output_type": "execute_result"
    }
   ],
   "source": [
    "info_df['Remaining edges'] / info_df['Total edges'] * 100"
   ]
  },
  {
   "cell_type": "markdown",
   "metadata": {},
   "source": [
    "#### Output sparse graphs"
   ]
  },
  {
   "cell_type": "code",
   "execution_count": 86,
   "metadata": {},
   "outputs": [],
   "source": [
    "for year in years:\n",
    "    df = pd.read_csv(f'{data_in}/l1_{year}.csv', index_col='Country')\n",
    "    df = (df >= info_df['Threshold'][year]) * df\n",
    "    df.to_csv(f'{graphs_out}/l1_{year}.csv')\n",
    "    \n",
    "    nx.write_gexf(nx.Graph(df), f'{graphs_out}/l1_{year}.gexf')"
   ]
  }
 ],
 "metadata": {
  "kernelspec": {
   "display_name": "Python 3",
   "language": "python",
   "name": "python3"
  },
  "language_info": {
   "codemirror_mode": {
    "name": "ipython",
    "version": 3
   },
   "file_extension": ".py",
   "mimetype": "text/x-python",
   "name": "python",
   "nbconvert_exporter": "python",
   "pygments_lexer": "ipython3",
   "version": "3.7.1"
  }
 },
 "nbformat": 4,
 "nbformat_minor": 2
}
