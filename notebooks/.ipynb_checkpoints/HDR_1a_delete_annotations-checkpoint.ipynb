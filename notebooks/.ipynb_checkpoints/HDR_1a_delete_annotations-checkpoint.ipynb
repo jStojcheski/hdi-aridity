{
 "cells": [
  {
   "cell_type": "markdown",
   "metadata": {},
   "source": [
    "### HDR: Delete annotations; Get complete list of countries"
   ]
  },
  {
   "cell_type": "code",
   "execution_count": 1,
   "metadata": {},
   "outputs": [],
   "source": [
    "import os\n",
    "import pandas as pd\n",
    "\n",
    "from pprint import pprint"
   ]
  },
  {
   "cell_type": "markdown",
   "metadata": {},
   "source": [
    "#### Set input/output folder"
   ]
  },
  {
   "cell_type": "code",
   "execution_count": 2,
   "metadata": {},
   "outputs": [],
   "source": [
    "data_in  = '../data/HDR_0'\n",
    "data_out = '../data/HDR_1a_delete_annotations'\n",
    "\n",
    "if not os.path.exists(data_out):\n",
    "    os.mkdir(data_out)"
   ]
  },
  {
   "cell_type": "markdown",
   "metadata": {},
   "source": [
    "#### Load functions/snippets"
   ]
  },
  {
   "cell_type": "code",
   "execution_count": 4,
   "metadata": {},
   "outputs": [],
   "source": [
    "def del_annot(df):\n",
    "    df.index = df.index.str.strip()\n",
    "    df.columns = df.columns.str.strip()\n",
    "\n",
    "    df = df.filter(regex='^[A-Z]', axis=0)\n",
    "    df = df.filter(regex='^[0-9]', axis=1)\n",
    "    \n",
    "    return df"
   ]
  },
  {
   "cell_type": "markdown",
   "metadata": {},
   "source": [
    "#### Delete annotations; Get complete list of countries"
   ]
  },
  {
   "cell_type": "code",
   "execution_count": 5,
   "metadata": {},
   "outputs": [
    {
     "name": "stderr",
     "output_type": "stream",
     "text": [
      "b'Skipping line 110: expected 3 fields, saw 4\\n'\n",
      "b'Skipping line 59: expected 3 fields, saw 4\\n'\n",
      "b'Skipping line 194: expected 3 fields, saw 5\\n'\n"
     ]
    }
   ],
   "source": [
    "HDR_countries = set()\n",
    "\n",
    "for dim in os.listdir(data_in):\n",
    "    dim_path = f'{data_in}/{dim}'\n",
    "    \n",
    "    if os.path.isdir(dim_path):\n",
    "        for attr_file in os.listdir(dim_path):\n",
    "            df = pd.read_csv(f'{dim_path}/{attr_file}', encoding='latin_1',\n",
    "                             index_col='Country', skiprows=1, error_bad_lines=False)\n",
    "            df = del_annot(df)\n",
    "            \n",
    "            if dim not in os.listdir(data_out):\n",
    "                os.mkdir(f'{data_out}/{dim}')\n",
    "                \n",
    "            HDR_countries.update(list(df.index))\n",
    "            df.to_csv(f'{data_out}/{dim}/{attr_file}')\n",
    "            \n",
    "    else:\n",
    "        df = pd.read_csv(f'{dim_path}', encoding='latin_1',\n",
    "                         index_col='Country', skiprows=1, error_bad_lines=False)\n",
    "        df = del_annot(df)\n",
    "        \n",
    "        HDR_countries.update(list(df.index))\n",
    "        df.to_csv(f'{data_out}/{dim}')"
   ]
  },
  {
   "cell_type": "code",
   "execution_count": 6,
   "metadata": {},
   "outputs": [
    {
     "name": "stdout",
     "output_type": "stream",
     "text": [
      "196\n",
      "['Antigua and Barbuda',\n",
      " 'Iraq',\n",
      " 'Dominica',\n",
      " 'Central African Republic',\n",
      " 'Tuvalu',\n",
      " 'Belarus',\n",
      " 'Cameroon',\n",
      " 'Chile',\n",
      " 'Bulgaria',\n",
      " 'United States']\n"
     ]
    }
   ],
   "source": [
    "print(len(HDR_countries))\n",
    "pprint(list(HDR_countries)[:10])"
   ]
  },
  {
   "cell_type": "markdown",
   "metadata": {},
   "source": [
    "#### Output countries list"
   ]
  },
  {
   "cell_type": "code",
   "execution_count": 7,
   "metadata": {},
   "outputs": [],
   "source": [
    "HDR_countries_df = pd.DataFrame(sorted(list(HDR_countries)))\n",
    "HDR_countries_df.columns = ['HDR Country Name']"
   ]
  }
 ],
 "metadata": {
  "kernelspec": {
   "display_name": "Python 3",
   "language": "python",
   "name": "python3"
  },
  "language_info": {
   "codemirror_mode": {
    "name": "ipython",
    "version": 3
   },
   "file_extension": ".py",
   "mimetype": "text/x-python",
   "name": "python",
   "nbconvert_exporter": "python",
   "pygments_lexer": "ipython3",
   "version": "3.6.5"
  }
 },
 "nbformat": 4,
 "nbformat_minor": 2
}
