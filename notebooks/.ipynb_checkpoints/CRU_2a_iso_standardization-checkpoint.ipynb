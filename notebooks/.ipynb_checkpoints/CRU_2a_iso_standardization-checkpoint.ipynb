{
 "cells": [
  {
   "cell_type": "markdown",
   "metadata": {},
   "source": [
    "### CRU: Country names ISO standardization"
   ]
  },
  {
   "cell_type": "code",
   "execution_count": 1,
   "metadata": {},
   "outputs": [],
   "source": [
    "import os\n",
    "import pandas as pd"
   ]
  },
  {
   "cell_type": "markdown",
   "metadata": {},
   "source": [
    "#### Set input and output folder"
   ]
  },
  {
   "cell_type": "code",
   "execution_count": 2,
   "metadata": {},
   "outputs": [],
   "source": [
    "data_in  = '../data/CRU_1_time_series'\n",
    "data_out = '../data/CRU_2a_iso_standardization'\n",
    "\n",
    "if not os.path.exists(data_out):\n",
    "    os.mkdir(data_out)\n",
    "\n",
    "periods = ['annually', 'monthly', 'quarterly']\n",
    "\n",
    "for period in periods:\n",
    "    if not os.path.exists(f'{data_out}/{period}'):\n",
    "        os.mkdir(f'{data_out}/{period}')"
   ]
  },
  {
   "cell_type": "markdown",
   "metadata": {},
   "source": [
    "#### Read table of country names and ISO codes"
   ]
  },
  {
   "cell_type": "code",
   "execution_count": 3,
   "metadata": {},
   "outputs": [
    {
     "data": {
      "text/html": [
       "<div>\n",
       "<style scoped>\n",
       "    .dataframe tbody tr th:only-of-type {\n",
       "        vertical-align: middle;\n",
       "    }\n",
       "\n",
       "    .dataframe tbody tr th {\n",
       "        vertical-align: top;\n",
       "    }\n",
       "\n",
       "    .dataframe thead th {\n",
       "        text-align: right;\n",
       "    }\n",
       "</style>\n",
       "<table border=\"1\" class=\"dataframe\">\n",
       "  <thead>\n",
       "    <tr style=\"text-align: right;\">\n",
       "      <th></th>\n",
       "      <th>alpha-2</th>\n",
       "      <th>alpha-3</th>\n",
       "      <th>ISO Country Name</th>\n",
       "    </tr>\n",
       "    <tr>\n",
       "      <th>CRU Country Name</th>\n",
       "      <th></th>\n",
       "      <th></th>\n",
       "      <th></th>\n",
       "    </tr>\n",
       "  </thead>\n",
       "  <tbody>\n",
       "    <tr>\n",
       "      <th>Afghanistan</th>\n",
       "      <td>AF</td>\n",
       "      <td>AFG</td>\n",
       "      <td>Afghanistan</td>\n",
       "    </tr>\n",
       "    <tr>\n",
       "      <th>Albania</th>\n",
       "      <td>AL</td>\n",
       "      <td>ALB</td>\n",
       "      <td>Albania</td>\n",
       "    </tr>\n",
       "    <tr>\n",
       "      <th>Algeria</th>\n",
       "      <td>DZ</td>\n",
       "      <td>DZA</td>\n",
       "      <td>Algeria</td>\n",
       "    </tr>\n",
       "    <tr>\n",
       "      <th>Andorra</th>\n",
       "      <td>AD</td>\n",
       "      <td>AND</td>\n",
       "      <td>Andorra</td>\n",
       "    </tr>\n",
       "    <tr>\n",
       "      <th>Angola</th>\n",
       "      <td>AO</td>\n",
       "      <td>AGO</td>\n",
       "      <td>Angola</td>\n",
       "    </tr>\n",
       "    <tr>\n",
       "      <th>Antigua_and_Barbuda</th>\n",
       "      <td>AG</td>\n",
       "      <td>ATG</td>\n",
       "      <td>Antigua and Barbuda</td>\n",
       "    </tr>\n",
       "    <tr>\n",
       "      <th>Argentina</th>\n",
       "      <td>AR</td>\n",
       "      <td>ARG</td>\n",
       "      <td>Argentina</td>\n",
       "    </tr>\n",
       "    <tr>\n",
       "      <th>Armenia</th>\n",
       "      <td>AM</td>\n",
       "      <td>ARM</td>\n",
       "      <td>Armenia</td>\n",
       "    </tr>\n",
       "    <tr>\n",
       "      <th>Australia</th>\n",
       "      <td>AU</td>\n",
       "      <td>AUS</td>\n",
       "      <td>Australia</td>\n",
       "    </tr>\n",
       "    <tr>\n",
       "      <th>Austria</th>\n",
       "      <td>AT</td>\n",
       "      <td>AUT</td>\n",
       "      <td>Austria</td>\n",
       "    </tr>\n",
       "  </tbody>\n",
       "</table>\n",
       "</div>"
      ],
      "text/plain": [
       "                    alpha-2 alpha-3     ISO Country Name\n",
       "CRU Country Name                                        \n",
       "Afghanistan              AF     AFG          Afghanistan\n",
       "Albania                  AL     ALB              Albania\n",
       "Algeria                  DZ     DZA              Algeria\n",
       "Andorra                  AD     AND              Andorra\n",
       "Angola                   AO     AGO               Angola\n",
       "Antigua_and_Barbuda      AG     ATG  Antigua and Barbuda\n",
       "Argentina                AR     ARG            Argentina\n",
       "Armenia                  AM     ARM              Armenia\n",
       "Australia                AU     AUS            Australia\n",
       "Austria                  AT     AUT              Austria"
      ]
     },
     "execution_count": 3,
     "metadata": {},
     "output_type": "execute_result"
    }
   ],
   "source": [
    "iso_df = pd.read_csv('../data/ISO_country_codes.csv',\n",
    "                     index_col='CRU Country Name')\n",
    "iso_df = iso_df.drop('HDR Country Name', axis=1)\n",
    "iso_df.head(10)"
   ]
  },
  {
   "cell_type": "markdown",
   "metadata": {},
   "source": [
    "#### Load snippets"
   ]
  },
  {
   "cell_type": "code",
   "execution_count": 4,
   "metadata": {},
   "outputs": [],
   "source": [
    "# %load '../snippets/df_iso.py'\n",
    "def df_iso(df_in, iso_df, alpha2=True, remove_unmatched=True):\n",
    "    df = df_in.join(iso_df)\n",
    "    if alpha2:\n",
    "        df = df.set_index('alpha-2')\n",
    "        df = df.drop(['alpha-3'], axis=1)\n",
    "    else:\n",
    "        df = df.set_index('alpha-3')\n",
    "        df = df.drop(['alpha-2'], axis=1)\n",
    "    while remove_unmatched and float('nan') in list(df.index):\n",
    "        df = df.drop([float('nan')], axis=0)\n",
    "    df = df.drop(['ISO Country Name'], axis=1)\n",
    "    df.index.name = 'Country'\n",
    "    return df"
   ]
  },
  {
   "cell_type": "markdown",
   "metadata": {},
   "source": [
    "#### Read data, change country names to ISO codes; Output data to csv format"
   ]
  },
  {
   "cell_type": "code",
   "execution_count": 5,
   "metadata": {},
   "outputs": [],
   "source": [
    "for period in periods:\n",
    "    all_attrs = dict()\n",
    "\n",
    "    for attr_file in os.listdir(f'{data_in}/{period}'):\n",
    "        attr_path = f'{data_in}/{period}/{attr_file}'\n",
    "        attr = attr_file.split('.')[0]\n",
    "        all_attrs[attr] = pd.read_csv(f'{data_in}/{period}/{attr_file}',\n",
    "                                      index_col='Time', na_values=-999)\n",
    "        all_attrs[attr] = all_attrs[attr].drop('all', axis=1)\n",
    "        all_attrs[attr] = all_attrs[attr][iso_df.index]\n",
    "        all_attrs[attr].index = list(all_attrs[attr].index)\n",
    "        all_attrs[attr] = all_attrs[attr].transpose()\n",
    "        all_attrs[attr] = df_iso(all_attrs[attr], iso_df, alpha2=False)\n",
    "    \n",
    "    # output data to csv format\n",
    "    for attr in all_attrs.keys():\n",
    "       all_attrs[attr].to_csv(f'{data_out}/{period}/{attr}.csv', index_label='Country')"
   ]
  }
 ],
 "metadata": {
  "kernelspec": {
   "display_name": "Python 3",
   "language": "python",
   "name": "python3"
  },
  "language_info": {
   "codemirror_mode": {
    "name": "ipython",
    "version": 3
   },
   "file_extension": ".py",
   "mimetype": "text/x-python",
   "name": "python",
   "nbconvert_exporter": "python",
   "pygments_lexer": "ipython3",
   "version": "3.6.5"
  }
 },
 "nbformat": 4,
 "nbformat_minor": 2
}
