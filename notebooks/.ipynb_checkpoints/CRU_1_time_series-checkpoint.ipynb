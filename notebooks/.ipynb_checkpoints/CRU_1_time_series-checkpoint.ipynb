{
 "cells": [
  {
   "cell_type": "markdown",
   "metadata": {},
   "source": [
    "### CRU: Transform data to time series"
   ]
  },
  {
   "cell_type": "code",
   "execution_count": 1,
   "metadata": {},
   "outputs": [],
   "source": [
    "import os\n",
    "import pandas as pd"
   ]
  },
  {
   "cell_type": "markdown",
   "metadata": {},
   "source": [
    "#### Set input and output folders"
   ]
  },
  {
   "cell_type": "code",
   "execution_count": 2,
   "metadata": {},
   "outputs": [],
   "source": [
    "data_in  = '../data/CRU_0'\n",
    "data_out = '../data/CRU_1_time_series'\n",
    "\n",
    "if not os.path.exists(data_out):\n",
    "    os.mkdir(data_out)\n",
    "    \n",
    "periods = ['annually', 'monthly', 'quarterly']\n",
    "\n",
    "for period in periods:\n",
    "    if not os.path.exists(f'{data_out}/{period}'):\n",
    "        os.mkdir(f'{data_out}/{period}')"
   ]
  },
  {
   "cell_type": "markdown",
   "metadata": {},
   "source": [
    "#### Load Data-Vectorization Snippet"
   ]
  },
  {
   "cell_type": "code",
   "execution_count": 3,
   "metadata": {},
   "outputs": [],
   "source": [
    "# %load '../snippets/vectorize_cru_data.py'\n",
    "def vectorize_cru_data(data, periods):\n",
    "    time = list()\n",
    "    values = list()\n",
    "    for year in data.index:\n",
    "        for period in periods:\n",
    "            current_period = str(year)\n",
    "            current_period += '-{}'.format(period) if period != 'ANN' else ''\n",
    "            time.append(current_period)\n",
    "            values.append(data[period][year])\n",
    "    series = pd.Series(data=values, index=time)\n",
    "    return series"
   ]
  },
  {
   "cell_type": "markdown",
   "metadata": {},
   "source": [
    "#### Read input data, vectorize data, and output data to csv format"
   ]
  },
  {
   "cell_type": "code",
   "execution_count": 4,
   "metadata": {},
   "outputs": [],
   "source": [
    "for attr in sorted(os.listdir(data_in)):\n",
    "    # define data frames\n",
    "    df_annually  = pd.DataFrame()\n",
    "    df_monthly   = pd.DataFrame()\n",
    "    df_quarterly = pd.DataFrame()\n",
    "    \n",
    "    for country_file in os.listdir(f'{data_in}/{attr}'):\n",
    "        # derive country name\n",
    "        country = country_file.split('.')[5]\n",
    "\n",
    "        # read input data\n",
    "        data = pd.read_csv(f'{data_in}/{attr}/{country_file}',\n",
    "                           delimiter='\\s+', skiprows=3)\n",
    "        data = data.set_index('YEAR')\n",
    "        \n",
    "        # define months, quartals, annual\n",
    "        anno     = [data.columns[16]]\n",
    "        months   = data.columns[:12]\n",
    "        quartals = data.columns[12:16]\n",
    "        \n",
    "        # vectorize data\n",
    "        annual_vec   = vectorize_cru_data(data, anno)\n",
    "        month_vec    = vectorize_cru_data(data, months)\n",
    "        quartals_vec = vectorize_cru_data(data, quartals)\n",
    "        \n",
    "        # append vector to data frame\n",
    "        df_annually[country]  = annual_vec\n",
    "        df_monthly[country]   = month_vec\n",
    "        df_quarterly[country] = quartals_vec\n",
    "\n",
    "    # sort columns (countries)\n",
    "    df_annually  = df_annually.reindex(sorted(df_annually.columns), axis=1)\n",
    "    df_monthly   = df_monthly.reindex(sorted(df_monthly.columns), axis=1)\n",
    "    df_quarterly = df_quarterly.reindex(sorted(df_quarterly.columns), axis=1)\n",
    "\n",
    "    # rename index column\n",
    "    df_annually.index.name  = 'Time'\n",
    "    df_monthly.index.name   = 'Time'\n",
    "    df_quarterly.index.name = 'Time'\n",
    "\n",
    "    # output data to csv format\n",
    "    df_annually.to_csv(f'{data_out}/annually/{attr}.csv')\n",
    "    df_monthly.to_csv(f'{data_out}/monthly/{attr}.csv')\n",
    "    df_quarterly.to_csv(f'{data_out}/quarterly/{attr}.csv')"
   ]
  }
 ],
 "metadata": {
  "kernelspec": {
   "display_name": "Python 3",
   "language": "python",
   "name": "python3"
  },
  "language_info": {
   "codemirror_mode": {
    "name": "ipython",
    "version": 3
   },
   "file_extension": ".py",
   "mimetype": "text/x-python",
   "name": "python",
   "nbconvert_exporter": "python",
   "pygments_lexer": "ipython3",
   "version": "3.7.1"
  }
 },
 "nbformat": 4,
 "nbformat_minor": 2
}
