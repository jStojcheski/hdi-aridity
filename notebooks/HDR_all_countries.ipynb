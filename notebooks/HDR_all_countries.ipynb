{
 "cells": [
  {
   "cell_type": "markdown",
   "metadata": {},
   "source": [
    "### HDR: List of all countries"
   ]
  },
  {
   "cell_type": "code",
   "execution_count": 1,
   "metadata": {},
   "outputs": [],
   "source": [
    "import os\n",
    "import pandas as pd"
   ]
  },
  {
   "cell_type": "markdown",
   "metadata": {},
   "source": [
    "#### Set input/output folder"
   ]
  },
  {
   "cell_type": "code",
   "execution_count": 2,
   "metadata": {},
   "outputs": [],
   "source": [
    "data_in = '../data/HDR_1a_delete_annotations'"
   ]
  },
  {
   "cell_type": "markdown",
   "metadata": {},
   "source": [
    "#### Get list of all countries"
   ]
  },
  {
   "cell_type": "code",
   "execution_count": 3,
   "metadata": {},
   "outputs": [
    {
     "data": {
      "text/plain": [
       "0                              Afghanistan\n",
       "10                              Azerbaijan\n",
       "20        Bolivia (Plurinational State of)\n",
       "30                                Cameroon\n",
       "40                              Costa Rica\n",
       "50                                 Ecuador\n",
       "60                                  France\n",
       "70                           Guinea-Bissau\n",
       "80                                    Iraq\n",
       "90     Korea (Democratic People's Rep. of)\n",
       "100                          Liechtenstein\n",
       "110                             Mauritania\n",
       "120                                Myanmar\n",
       "130                                   Oman\n",
       "140                               Portugal\n",
       "150                  Sao Tome and Principe\n",
       "160                                Somalia\n",
       "170                             Tajikistan\n",
       "180                           Turkmenistan\n",
       "190     Venezuela (Bolivarian Republic of)\n",
       "dtype: object"
      ]
     },
     "execution_count": 3,
     "metadata": {},
     "output_type": "execute_result"
    }
   ],
   "source": [
    "countries = set()\n",
    "\n",
    "for dim in os.listdir(data_in):\n",
    "    dim_path = f'{data_in}/{dim}'\n",
    "    if os.path.isdir(dim_path):\n",
    "        \n",
    "        for attr_file in os.listdir(dim_path):\n",
    "            if not os.path.isdir(attr_file):\n",
    "                attr = f'[{dim}] {attr_file[:-4]}'\n",
    "                df = pd.read_csv(f'{dim_path}/{attr_file}', index_col='Country')\n",
    "                countries.update(df.index)\n",
    "                \n",
    "    else:\n",
    "        df = pd.read_csv(f'{dim_path}', index_col='Country')\n",
    "        countries.update(df.index)\n",
    "        \n",
    "countries = pd.Series(sorted(list(countries)))\n",
    "countries[::10]"
   ]
  },
  {
   "cell_type": "markdown",
   "metadata": {},
   "source": [
    "#### Output data to csv format"
   ]
  },
  {
   "cell_type": "code",
   "execution_count": 4,
   "metadata": {},
   "outputs": [],
   "source": [
    "countries.to_csv('../data/HDR_all_countries.csv', index=None)"
   ]
  }
 ],
 "metadata": {
  "kernelspec": {
   "display_name": "Python 3",
   "language": "python",
   "name": "python3"
  },
  "language_info": {
   "codemirror_mode": {
    "name": "ipython",
    "version": 3
   },
   "file_extension": ".py",
   "mimetype": "text/x-python",
   "name": "python",
   "nbconvert_exporter": "python",
   "pygments_lexer": "ipython3",
   "version": "3.7.1"
  }
 },
 "nbformat": 4,
 "nbformat_minor": 2
}
