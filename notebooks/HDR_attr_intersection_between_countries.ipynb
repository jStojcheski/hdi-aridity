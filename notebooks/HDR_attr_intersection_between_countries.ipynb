{
 "cells": [
  {
   "cell_type": "markdown",
   "metadata": {},
   "source": [
    "### HDR: Number of mutual attributes between the countries by year"
   ]
  },
  {
   "cell_type": "code",
   "execution_count": 1,
   "metadata": {},
   "outputs": [],
   "source": [
    "import numpy as np\n",
    "import os\n",
    "import pandas as pd"
   ]
  },
  {
   "cell_type": "markdown",
   "metadata": {},
   "source": [
    "#### Set input and output folder"
   ]
  },
  {
   "cell_type": "code",
   "execution_count": 2,
   "metadata": {},
   "outputs": [],
   "source": [
    "data_in  = '../data/HDR_1c_aggregate_attr_by_year'\n",
    "data_out = '../data/HDR_attr_intersection_between_countries'\n",
    "\n",
    "if not os.path.exists(data_out):\n",
    "    os.mkdir(data_out)"
   ]
  },
  {
   "cell_type": "markdown",
   "metadata": {},
   "source": [
    "#### Read data"
   ]
  },
  {
   "cell_type": "code",
   "execution_count": 3,
   "metadata": {},
   "outputs": [],
   "source": [
    "data = dict()\n",
    "\n",
    "for file in os.listdir(data_in):\n",
    "    year = file.split('.')[0]\n",
    "    data[year] = pd.read_csv(f'{data_in}/{file}',\n",
    "                             index_col='Country')"
   ]
  },
  {
   "cell_type": "markdown",
   "metadata": {},
   "source": [
    "#### Years of Interest"
   ]
  },
  {
   "cell_type": "code",
   "execution_count": 4,
   "metadata": {},
   "outputs": [],
   "source": [
    "years = sorted(list(data.keys()))"
   ]
  },
  {
   "cell_type": "code",
   "execution_count": 5,
   "metadata": {},
   "outputs": [
    {
     "name": "stdout",
     "output_type": "stream",
     "text": [
      "['1990', '1991', '1992', '1993', '1994', '1995', '1996', '1997', '1998', '1999', '2000', '2001', '2002', '2003', '2004', '2005', '2006', '2007', '2008', '2009', '2010', '2011', '2012', '2013', '2014', '2015', '2016', '2017']\n"
     ]
    }
   ],
   "source": [
    "yoi = [str(y) for y in range(1990, 2017 + 1)]\n",
    "print(yoi)"
   ]
  },
  {
   "cell_type": "markdown",
   "metadata": {},
   "source": [
    "#### Mutual attributes"
   ]
  },
  {
   "cell_type": "code",
   "execution_count": 6,
   "metadata": {},
   "outputs": [
    {
     "data": {
      "text/plain": [
       "8"
      ]
     },
     "execution_count": 6,
     "metadata": {},
     "output_type": "execute_result"
    }
   ],
   "source": [
    "attributes = set(data[yoi[0]].columns)\n",
    "\n",
    "for year in yoi:\n",
    "    attributes.intersection_update(set(data[year].columns))\n",
    "    \n",
    "len(attributes)"
   ]
  },
  {
   "cell_type": "markdown",
   "metadata": {},
   "source": [
    "#### Mutual countries"
   ]
  },
  {
   "cell_type": "code",
   "execution_count": 7,
   "metadata": {},
   "outputs": [],
   "source": [
    "# countries = set(data[yoi[0]].index)\n",
    "\n",
    "# for year in yoi:\n",
    "#     print(year, len(data[year].index))\n",
    "#     countries.intersection_update(set(data[year].index))\n",
    "    \n",
    "# countries  = sorted(list(countries))\n",
    "# print(len(countries))"
   ]
  },
  {
   "cell_type": "markdown",
   "metadata": {},
   "source": [
    "#### Compute mutual attributes between two countries; Output data to csv format\n",
    "#### <font style=\"color: #FF0000;\">Warning: Slow operation!!!</font> "
   ]
  },
  {
   "cell_type": "code",
   "execution_count": 8,
   "metadata": {},
   "outputs": [
    {
     "name": "stdout",
     "output_type": "stream",
     "text": [
      "Year 1990 ... Done!\n",
      "Year 1991 ... Done!\n",
      "Year 1992 ... Done!\n",
      "Year 1993 ... Done!\n",
      "Year 1994 ... Done!\n",
      "Year 1995 ... Done!\n",
      "Year 1996 ... Done!\n",
      "Year 1997 ... Done!\n",
      "Year 1998 ... Done!\n",
      "Year 1999 ... Done!\n",
      "Year 2000 ... Done!\n",
      "Year 2001 ... Done!\n",
      "Year 2002 ... Done!\n",
      "Year 2003 ... Done!\n",
      "Year 2004 ... Done!\n",
      "Year 2005 ... Done!\n",
      "Year 2006 ... Done!\n",
      "Year 2007 ... Done!\n",
      "Year 2008 ... Done!\n",
      "Year 2009 ... Done!\n",
      "Year 2010 ... Done!\n",
      "Year 2011 ... Done!\n",
      "Year 2012 ... Done!\n",
      "Year 2013 ... Done!\n",
      "Year 2014 ... Done!\n",
      "Year 2015 ... Done!\n",
      "Year 2016 ... Done!\n",
      "Year 2017 ... Done!\n"
     ]
    }
   ],
   "source": [
    "intersect_dict = dict()\n",
    "\n",
    "for year in yoi:\n",
    "    print(f'Year {year} ...', end=' ')\n",
    "    intersect_dict[year] = pd.DataFrame(columns=data[year].index,\n",
    "                                        index=data[year].index)\n",
    "\n",
    "    for c1 in data[year].index:\n",
    "        for c2 in data[year].index:\n",
    "            a1 = set(data[year].loc[c1].dropna().index)\n",
    "            a1.intersection_update(attributes)\n",
    "\n",
    "            a2 = set(data[year].loc[c2].dropna().index)\n",
    "            a2.intersection_update(attributes)\n",
    "\n",
    "            intersect_dict[year][c1][c2] = len(a1.intersection(a2))\n",
    "                \n",
    "    intersect_dict[year].to_csv(f'{data_out}/{year}.csv',\n",
    "                                index_label='Country')\n",
    "    print('Done!')"
   ]
  },
  {
   "cell_type": "markdown",
   "metadata": {},
   "source": [
    "#### Display results"
   ]
  },
  {
   "cell_type": "code",
   "execution_count": 9,
   "metadata": {},
   "outputs": [
    {
     "name": "stdout",
     "output_type": "stream",
     "text": [
      "1990 (195, 195)\n",
      "1991 (194, 194)\n",
      "1992 (194, 194)\n",
      "1993 (194, 194)\n",
      "1994 (194, 194)\n",
      "1995 (195, 195)\n",
      "1996 (195, 195)\n",
      "1997 (195, 195)\n",
      "1998 (194, 194)\n",
      "1999 (194, 194)\n",
      "2000 (195, 195)\n",
      "2001 (194, 194)\n",
      "2002 (194, 194)\n",
      "2003 (194, 194)\n",
      "2004 (194, 194)\n",
      "2005 (195, 195)\n",
      "2006 (194, 194)\n",
      "2007 (194, 194)\n",
      "2008 (194, 194)\n",
      "2009 (194, 194)\n",
      "2010 (195, 195)\n",
      "2011 (195, 195)\n",
      "2012 (195, 195)\n",
      "2013 (195, 195)\n",
      "2014 (195, 195)\n",
      "2015 (195, 195)\n",
      "2016 (195, 195)\n",
      "2017 (195, 195)\n"
     ]
    }
   ],
   "source": [
    "for year in intersect_dict.keys():\n",
    "    print(year, intersect_dict[year].shape)\n",
    "#     display(intersect_dict[year].head())"
   ]
  }
 ],
 "metadata": {
  "kernelspec": {
   "display_name": "Python 3",
   "language": "python",
   "name": "python3"
  },
  "language_info": {
   "codemirror_mode": {
    "name": "ipython",
    "version": 3
   },
   "file_extension": ".py",
   "mimetype": "text/x-python",
   "name": "python",
   "nbconvert_exporter": "python",
   "pygments_lexer": "ipython3",
   "version": "3.7.1"
  }
 },
 "nbformat": 4,
 "nbformat_minor": 2
}
