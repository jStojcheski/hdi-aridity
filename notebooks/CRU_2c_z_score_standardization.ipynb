{
 "cells": [
  {
   "cell_type": "markdown",
   "metadata": {},
   "source": [
    "### CRU: Attributes z-score standardization"
   ]
  },
  {
   "cell_type": "code",
   "execution_count": 1,
   "metadata": {},
   "outputs": [],
   "source": [
    "import numpy as np\n",
    "import os\n",
    "import pandas as pd\n",
    "\n",
    "from pprint import pprint"
   ]
  },
  {
   "cell_type": "markdown",
   "metadata": {},
   "source": [
    "#### Set input/output folder"
   ]
  },
  {
   "cell_type": "code",
   "execution_count": 2,
   "metadata": {},
   "outputs": [],
   "source": [
    "data_in         = '../data/CRU_2a_iso_standardization'\n",
    "data_attr_out   = '../data/CRU_2c_z_score_attr'\n",
    "data_period_out = '../data/CRU_2c_z_score_year'\n",
    "\n",
    "if not os.path.exists(data_attr_out):\n",
    "    os.mkdir(data_attr_out)\n",
    "\n",
    "if not os.path.exists(data_period_out):\n",
    "    os.mkdir(data_period_out)\n",
    "\n",
    "periods = ['annually', 'monthly', 'quarterly']\n",
    "for period in periods:\n",
    "    if not os.path.exists(f'{data_attr_out}/{period}'):\n",
    "        os.mkdir(f'{data_attr_out}/{period}')\n",
    "    if not os.path.exists(f'{data_period_out}/{period}'):\n",
    "        os.mkdir(f'{data_period_out}/{period}')"
   ]
  },
  {
   "cell_type": "markdown",
   "metadata": {},
   "source": [
    "#### Read data"
   ]
  },
  {
   "cell_type": "code",
   "execution_count": 3,
   "metadata": {},
   "outputs": [],
   "source": [
    "for period in periods:\n",
    "    # Read data\n",
    "    all_attrs = dict()\n",
    "\n",
    "    for attr_file in os.listdir(f'{data_in}/{period}'):\n",
    "        attr = attr_file.split('.')[0]\n",
    "        all_attrs[attr] = pd.read_csv(f'{data_in}/{period}/{attr_file}',\n",
    "                                      index_col='Country')\n",
    "        all_attrs[attr] = all_attrs[attr].replace([np.inf, -np.inf], np.nan)\n",
    "        \n",
    "        # attrs = sorted(list(all_attrs.keys()))\n",
    "        # print(len(attrs))\n",
    "        \n",
    "\n",
    "    # Data transformation; Output data to csv format per year\n",
    "    mean_var_df = pd.DataFrame(columns=['Mean', 'Variance'])\n",
    "\n",
    "    for attr in sorted(list(all_attrs.keys())):\n",
    "    #     print(attr)\n",
    "\n",
    "        arr   = all_attrs[attr].values  # get all values\n",
    "        arr   = arr[~np.isnan(arr)]     # remove nan values\n",
    "        mu    = arr.mean()  # mean (expectation)\n",
    "        sigma = arr.var()   # variance = std ** 2\n",
    "        mean_var_df.loc[attr] = [mu, sigma]\n",
    "\n",
    "        all_attrs[attr] = (all_attrs[attr] - mu) / (np.sqrt(sigma))\n",
    "        all_attrs[attr].to_csv(f'{data_attr_out}/{period}/{attr}.csv',\n",
    "                               index_label='Country')\n",
    "\n",
    "    mean_var_df.to_csv(f'../data/CRU_{period}_mean_var_values.csv',\n",
    "                       index_label='Attribute')\n",
    "\n",
    "    # Concatenate attributes by period of time\n",
    "    df_dict = dict()\n",
    "\n",
    "    for attr in sorted(list(all_attrs.keys())):\n",
    "        df = all_attrs[attr]\n",
    "        for p in df.columns:\n",
    "            if p not in df_dict.keys():\n",
    "                df_dict[p] = pd.DataFrame()\n",
    "            df_dict[p][attr] = df[p]\n",
    "            \n",
    "    # Period (Number of countries, Number of attributes)\n",
    "    for p in df_dict.keys():\n",
    "#         print(p, df_dict[p].shape)\n",
    "        df_dict[p].to_csv(f'{data_period_out}/{period}/{p}.csv')"
   ]
  },
  {
   "cell_type": "markdown",
   "metadata": {},
   "source": [
    "#### Attributes z-score standardization & output to csv format\n",
    "\n",
    "$x' = \\cfrac{x - \\mu}{\\sigma}$\n",
    "- $\\mu$: mean (expectation)\n",
    "- $\\sigma$: standard deviationm"
   ]
  },
  {
   "cell_type": "markdown",
   "metadata": {},
   "source": [
    "#### List of all attributes"
   ]
  },
  {
   "cell_type": "code",
   "execution_count": 4,
   "metadata": {},
   "outputs": [
    {
     "name": "stdout",
     "output_type": "stream",
     "text": [
      "['Aridity Index (AI)',\n",
      " 'Cloud Cover (CLD) [percentage]',\n",
      " 'Diurnal Temperature Range (DTR) [degrees Celsius]',\n",
      " 'Ground Frost Frequency (FRS) [days]',\n",
      " 'Maximum Temperature (TMX) [degrees Celsius]',\n",
      " 'Mean Temperature (TMP) [degrees Celsius]',\n",
      " 'Minimum Temperature (TMN) [degrees Celsius]',\n",
      " 'Potential Evapotranspiration (PET) [mm_day]',\n",
      " 'Potential Evapotranspiration (PET) [mm_month]',\n",
      " 'Precipitation (PRE) [mm_month]',\n",
      " 'Rain Days (WET) [days]',\n",
      " 'Vapour Pressure (VAP) [hPa]']\n"
     ]
    }
   ],
   "source": [
    "attrs = sorted(list(all_attrs.keys()))\n",
    "pprint(attrs)"
   ]
  }
 ],
 "metadata": {
  "kernelspec": {
   "display_name": "Python 3",
   "language": "python",
   "name": "python3"
  },
  "language_info": {
   "codemirror_mode": {
    "name": "ipython",
    "version": 3
   },
   "file_extension": ".py",
   "mimetype": "text/x-python",
   "name": "python",
   "nbconvert_exporter": "python",
   "pygments_lexer": "ipython3",
   "version": "3.7.1"
  }
 },
 "nbformat": 4,
 "nbformat_minor": 2
}
