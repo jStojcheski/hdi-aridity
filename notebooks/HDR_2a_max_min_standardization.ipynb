{
 "cells": [
  {
   "cell_type": "markdown",
   "metadata": {},
   "source": [
    "### HDR: Attributes max-min [0, 1] standardization"
   ]
  },
  {
   "cell_type": "code",
   "execution_count": 1,
   "metadata": {},
   "outputs": [],
   "source": [
    "import os\n",
    "import pandas as pd\n",
    "\n",
    "from pprint import pprint"
   ]
  },
  {
   "cell_type": "markdown",
   "metadata": {},
   "source": [
    "#### Set input/output folder"
   ]
  },
  {
   "cell_type": "code",
   "execution_count": 2,
   "metadata": {},
   "outputs": [],
   "source": [
    "data_in       = '../data/HDR_1b_iso_standardization'\n",
    "data_attr_out = '../data/HDR_2a_max_min_attr'\n",
    "data_year_out = '../data/HDR_2a_max_min_year'\n",
    "\n",
    "if not os.path.exists(data_attr_out):\n",
    "    os.mkdir(data_attr_out)\n",
    "    \n",
    "if not os.path.exists(data_year_out):\n",
    "    os.mkdir(data_year_out)"
   ]
  },
  {
   "cell_type": "markdown",
   "metadata": {},
   "source": [
    "#### Read attributes data"
   ]
  },
  {
   "cell_type": "code",
   "execution_count": 3,
   "metadata": {},
   "outputs": [],
   "source": [
    "all_attrs = dict()\n",
    "\n",
    "for dim in os.listdir(data_in):\n",
    "    dim_path = f'{data_in}/{dim}'\n",
    "    \n",
    "    if os.path.isdir(dim_path):\n",
    "        for attr_file in os.listdir(dim_path):\n",
    "            if not os.path.isdir(attr_file):\n",
    "                attr = f'[{dim}] {attr_file[:-4]}'\n",
    "                all_attrs[attr] = pd.read_csv(f'{dim_path}/{attr_file}', index_col='Country')\n",
    "                \n",
    "    else:\n",
    "        attr = dim[:-4]\n",
    "        all_attrs[attr] = pd.read_csv(f'{dim_path}', index_col='Country')"
   ]
  },
  {
   "cell_type": "markdown",
   "metadata": {},
   "source": [
    "#### Attributes max-min [0, 1] standardization & output to csv format\n",
    "\n",
    "$x' = \\cfrac{x - min}{max - min}$\n",
    "- $max$: maximum of all attribute's observations\n",
    "- $min$: mimimum of all attribute's observations"
   ]
  },
  {
   "cell_type": "code",
   "execution_count": 4,
   "metadata": {},
   "outputs": [],
   "source": [
    "max_min_df = pd.DataFrame(columns=['Minimum', 'Maximum'])\n",
    "\n",
    "for attr in sorted(list(all_attrs.keys())):\n",
    "#     print(attr)\n",
    "    \n",
    "    min_val = all_attrs[attr].min().min()  # min of all attribute's values\n",
    "    max_val = all_attrs[attr].max().max()  # max of all attribute's values\n",
    "    max_min_df.loc[attr] = [min_val, max_val]\n",
    "    \n",
    "    all_attrs[attr] = (all_attrs[attr] - min_val) / (max_val - min_val)\n",
    "    s = attr.split(']')\n",
    "    \n",
    "    if len(s) == 2:\n",
    "        folder_name = s[0][1:]\n",
    "        file_name = s[1][1:]\n",
    "        if folder_name not in os.listdir(data_attr_out):\n",
    "            os.mkdir(f'{data_attr_out}/{folder_name}')\n",
    "        all_attrs[attr].to_csv(f'{data_attr_out}/{folder_name}/{file_name}.csv', index_label='Country')\n",
    "        \n",
    "    else:\n",
    "        folder_name = s[0]\n",
    "        all_attrs[attr].to_csv(f'{data_attr_out}/{folder_name}.csv', index_label='Country')\n",
    "\n",
    "max_min_df.to_csv('../data/HDR_max_min_values.csv', index_label='[Dimension] Attribute')"
   ]
  },
  {
   "cell_type": "code",
   "execution_count": 5,
   "metadata": {},
   "outputs": [
    {
     "name": "stdout",
     "output_type": "stream",
     "text": [
      "141\n"
     ]
    }
   ],
   "source": [
    "attrs = sorted(list(all_attrs.keys()))\n",
    "print(len(attrs))"
   ]
  },
  {
   "cell_type": "markdown",
   "metadata": {},
   "source": [
    "#### Concatenate attributes by year | [Dimension] Attribute"
   ]
  },
  {
   "cell_type": "code",
   "execution_count": 6,
   "metadata": {},
   "outputs": [],
   "source": [
    "df_dict = dict()\n",
    "\n",
    "for attr in attrs:\n",
    "    df = all_attrs[attr]\n",
    "    for year in df.columns:\n",
    "        if year not in df_dict.keys():\n",
    "            df_dict[year] = pd.DataFrame()\n",
    "        df_year = pd.DataFrame(df[year])\n",
    "        df_year.columns = [attr]\n",
    "        df_dict[year] = df_dict[year].join(df_year, how='outer')\n",
    "        # df_dict[year][attr] = df[year]"
   ]
  },
  {
   "cell_type": "markdown",
   "metadata": {},
   "source": [
    "#### Year (Number of countries, Number of attributes)"
   ]
  },
  {
   "cell_type": "code",
   "execution_count": 7,
   "metadata": {},
   "outputs": [
    {
     "name": "stdout",
     "output_type": "stream",
     "text": [
      "YEAR CNT ATR\n",
      "1990 195 71\n",
      "1991 191 18\n",
      "1992 191 8\n",
      "1993 191 8\n",
      "1994 191 8\n",
      "1995 195 90\n",
      "1996 191 9\n",
      "1997 191 9\n",
      "1998 191 8\n",
      "1999 191 8\n",
      "2000 195 103\n",
      "2001 191 8\n",
      "2002 191 8\n",
      "2003 191 8\n",
      "2004 191 8\n",
      "2005 195 105\n",
      "2006 191 8\n",
      "2007 191 8\n",
      "2008 191 8\n",
      "2009 191 8\n",
      "2010 195 115\n",
      "2011 195 108\n",
      "2012 195 107\n",
      "2013 195 107\n",
      "2014 195 108\n",
      "2015 195 116\n",
      "2016 195 102\n",
      "2017 195 83\n",
      "\n",
      "2008-2013\n",
      "Index(['[Education] Proportion of schools with access to the Internet (%)'], dtype='object')\n",
      "\n",
      "1990/2015\n",
      "Index(['[Environmental Sustainability] Forest area, change (%)'], dtype='object')\n",
      "\n",
      "2003-2017\n",
      "Index(['[Gender] Child marriage, women married by age 18 (% of women ages 20–24 years who are married or in union)'], dtype='object')\n",
      "\n",
      "2007-2017\n",
      "Index(['[Gender] Female share of graduates in science, mathematics, engineering, manufacturing and construction at tertiary level (%)'], dtype='object')\n",
      "\n",
      "2005-2018\n",
      "Index(['[Gender] Violence against women ever experienced, intimate partner (% of female population ages 15 and older)', '[Gender] Violence against women ever experienced, nonintimate partner (% of female population ages 15 and older)'], dtype='object')\n",
      "\n",
      "2010-2016\n",
      "Index(['[Health] Child malnutrition, stunting (moderate or severe) (% under age 5)', '[Work, employment and vulnerability] Child labour (% ages 5-17)'], dtype='object')\n",
      "\n",
      "2006-2017\n",
      "Index(['[Human Security] Birth registration (% under age 5)'], dtype='object')\n",
      "\n",
      "2007/2017\n",
      "Index(['[Human Security] Homeless people due to natural disaster (average annual per million people)'], dtype='object')\n",
      "\n",
      "2004-2015\n",
      "Index(['[Human Security] Prison population (per 100,000 people)'], dtype='object')\n",
      "\n",
      "2010-2017\n",
      "Index(['[Inequality] Income inequality, Gini coefficient',\n",
      "       '[Inequality] Income inequality, Palma ratio',\n",
      "       '[Inequality] Income inequality, quintile ratio'],\n",
      "      dtype='object')\n",
      "\n",
      "2013-2017\n",
      "Index(['[Mobility and communication] Internet users, female (% of female population)'], dtype='object')\n",
      "\n",
      "2005/2017\n",
      "Index(['[Socio-economic sustainability] Income quintile ratio, average annual change (%)'], dtype='object')\n",
      "\n",
      "2010/2017\n",
      "Index(['[Socio-economic sustainability] Overall loss in HDI value due to inequality, average annual change (%)'], dtype='object')\n",
      "\n",
      "2006-2016\n",
      "Index(['[Work, employment and vulnerability] Old-age pension recipients (% of statutory pension age population)'], dtype='object')\n"
     ]
    }
   ],
   "source": [
    "yoi = list()  # years of interest\n",
    "\n",
    "print('YEAR CNT ATR')\n",
    "for year in df_dict.keys():\n",
    "    \n",
    "    if len(year) > 4:\n",
    "        print(f'\\n{year}')\n",
    "        pprint(df_dict[year].columns)\n",
    "        \n",
    "    else:\n",
    "        print(year, df_dict[year].count().max(), df_dict[year].shape[1])\n",
    "        yoi.append(year)"
   ]
  },
  {
   "cell_type": "code",
   "execution_count": 8,
   "metadata": {},
   "outputs": [
    {
     "name": "stdout",
     "output_type": "stream",
     "text": [
      "['1990',\n",
      " '1991',\n",
      " '1992',\n",
      " '1993',\n",
      " '1994',\n",
      " '1995',\n",
      " '1996',\n",
      " '1997',\n",
      " '1998',\n",
      " '1999',\n",
      " '2000',\n",
      " '2001',\n",
      " '2002',\n",
      " '2003',\n",
      " '2004',\n",
      " '2005',\n",
      " '2006',\n",
      " '2007',\n",
      " '2008',\n",
      " '2009',\n",
      " '2010',\n",
      " '2011',\n",
      " '2012',\n",
      " '2013',\n",
      " '2014',\n",
      " '2015',\n",
      " '2016',\n",
      " '2017']\n"
     ]
    }
   ],
   "source": [
    "pprint(yoi)"
   ]
  },
  {
   "cell_type": "markdown",
   "metadata": {},
   "source": [
    "#### Output data to csv format"
   ]
  },
  {
   "cell_type": "code",
   "execution_count": 9,
   "metadata": {},
   "outputs": [],
   "source": [
    "for year in yoi:\n",
    "    df_dict[year].to_csv(f'{data_year_out}/{year}.csv',\n",
    "                         index_label='Country')"
   ]
  }
 ],
 "metadata": {
  "kernelspec": {
   "display_name": "Python 3",
   "language": "python",
   "name": "python3"
  },
  "language_info": {
   "codemirror_mode": {
    "name": "ipython",
    "version": 3
   },
   "file_extension": ".py",
   "mimetype": "text/x-python",
   "name": "python",
   "nbconvert_exporter": "python",
   "pygments_lexer": "ipython3",
   "version": "3.7.1"
  }
 },
 "nbformat": 4,
 "nbformat_minor": 2
}
