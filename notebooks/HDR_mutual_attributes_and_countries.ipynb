{
 "cells": [
  {
   "cell_type": "markdown",
   "metadata": {},
   "source": [
    "### HDR: Mutual attributes and countries"
   ]
  },
  {
   "cell_type": "code",
   "execution_count": 1,
   "metadata": {},
   "outputs": [],
   "source": [
    "import numpy as np\n",
    "import os\n",
    "import pandas as pd\n",
    "\n",
    "from pprint import pprint"
   ]
  },
  {
   "cell_type": "markdown",
   "metadata": {},
   "source": [
    "#### Set input/output folder"
   ]
  },
  {
   "cell_type": "code",
   "execution_count": 2,
   "metadata": {},
   "outputs": [],
   "source": [
    "data_in  = '../data/HDR_1c_aggregate_attr_by_year'\n",
    "data_out = '../data/HDR_mutual_attributes_and_countries'\n",
    "\n",
    "if not os.path.exists(data_out):\n",
    "    os.mkdir(data_out)"
   ]
  },
  {
   "cell_type": "markdown",
   "metadata": {},
   "source": [
    "#### Export mutual attributes and countries"
   ]
  },
  {
   "cell_type": "code",
   "execution_count": 3,
   "metadata": {},
   "outputs": [
    {
     "name": "stdout",
     "output_type": "stream",
     "text": [
      "[2010 2011 2012 2013 2014 2015 2016]\n",
      "\n",
      "# of attributes after 2010: 115\n",
      "# of countries  after 2010: 195\n",
      "\n",
      "# of attributes after 2011: 107\n",
      "# of countries  after 2011: 195\n",
      "\n",
      "# of attributes after 2012: 107\n",
      "# of countries  after 2012: 195\n",
      "\n",
      "# of attributes after 2013: 107\n",
      "# of countries  after 2013: 195\n",
      "\n",
      "# of attributes after 2014: 107\n",
      "# of countries  after 2014: 195\n",
      "\n",
      "# of attributes after 2015: 105\n",
      "# of countries  after 2015: 195\n",
      "\n",
      "# of attributes after 2016: 98\n",
      "# of countries  after 2016: 195\n",
      "\n"
     ]
    }
   ],
   "source": [
    "years = np.arange(2010, 2016 + 1)\n",
    "print(years, end='\\n\\n')\n",
    "\n",
    "countries  = set()\n",
    "attributes = set()\n",
    "\n",
    "dfs = dict()\n",
    "\n",
    "for year in years:\n",
    "    dfs[year] = pd.read_csv(f'{data_in}/{year}.csv', index_col='Country')\n",
    "    \n",
    "    if len(attributes) == 0:\n",
    "        for attribute in dfs[year].columns.values:\n",
    "            attributes.add(attribute)\n",
    "        \n",
    "    if len(countries) == 0:\n",
    "        for country in dfs[year].index.values:\n",
    "            countries.add(country)\n",
    "\n",
    "    attributes.intersection_update(dfs[year].columns.values)\n",
    "    countries.intersection_update(dfs[year].index.values)\n",
    "    \n",
    "    print(f'# of attributes after {year}:', len(attributes))\n",
    "    print(f'# of countries  after {year}:', len(countries), end='\\n\\n')\n",
    "    \n",
    "pd.Series(list(attributes)).sort_values() \\\n",
    "  .to_csv(f'{data_out}/attributes_{years[0]}_{years[-1]}.csv', index=None)\n",
    "pd.Series(list(countries)).sort_values() \\\n",
    "  .to_csv(f'{data_out}/countries_{years[0]}_{years[-1]}.csv', index=None)"
   ]
  }
 ],
 "metadata": {
  "kernelspec": {
   "display_name": "Python 3",
   "language": "python",
   "name": "python3"
  },
  "language_info": {
   "codemirror_mode": {
    "name": "ipython",
    "version": 3
   },
   "file_extension": ".py",
   "mimetype": "text/x-python",
   "name": "python",
   "nbconvert_exporter": "python",
   "pygments_lexer": "ipython3",
   "version": "3.7.1"
  }
 },
 "nbformat": 4,
 "nbformat_minor": 2
}
